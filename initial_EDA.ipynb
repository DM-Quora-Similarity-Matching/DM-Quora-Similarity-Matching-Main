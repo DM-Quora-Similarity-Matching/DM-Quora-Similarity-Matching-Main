{
 "cells": [
  {
   "cell_type": "code",
   "execution_count": 1,
   "id": "600ccbe8",
   "metadata": {},
   "outputs": [],
   "source": [
    "import numpy as np\n",
    "import pandas as pd\n",
    "import seaborn as sns\n",
    "import matplotlib.pyplot as plt"
   ]
  },
  {
   "cell_type": "code",
   "execution_count": 2,
   "id": "60425156",
   "metadata": {},
   "outputs": [
    {
     "data": {
      "text/plain": [
       "(404290, 6)"
      ]
     },
     "execution_count": 2,
     "metadata": {},
     "output_type": "execute_result"
    }
   ],
   "source": [
    "df = pd.read_csv(\"train.csv\")\n",
    "df.shape"
   ]
  },
  {
   "cell_type": "code",
   "execution_count": 3,
   "id": "5a3d86b9",
   "metadata": {},
   "outputs": [
    {
     "data": {
      "text/html": [
       "<div>\n",
       "<style scoped>\n",
       "    .dataframe tbody tr th:only-of-type {\n",
       "        vertical-align: middle;\n",
       "    }\n",
       "\n",
       "    .dataframe tbody tr th {\n",
       "        vertical-align: top;\n",
       "    }\n",
       "\n",
       "    .dataframe thead th {\n",
       "        text-align: right;\n",
       "    }\n",
       "</style>\n",
       "<table border=\"1\" class=\"dataframe\">\n",
       "  <thead>\n",
       "    <tr style=\"text-align: right;\">\n",
       "      <th></th>\n",
       "      <th>id</th>\n",
       "      <th>qid1</th>\n",
       "      <th>qid2</th>\n",
       "      <th>question1</th>\n",
       "      <th>question2</th>\n",
       "      <th>is_duplicate</th>\n",
       "    </tr>\n",
       "  </thead>\n",
       "  <tbody>\n",
       "    <tr>\n",
       "      <th>155074</th>\n",
       "      <td>155074</td>\n",
       "      <td>1707</td>\n",
       "      <td>29274</td>\n",
       "      <td>What does it mean if a dog vomits white foam?</td>\n",
       "      <td>What does it mean if a dog is throwing up yell...</td>\n",
       "      <td>1</td>\n",
       "    </tr>\n",
       "    <tr>\n",
       "      <th>271453</th>\n",
       "      <td>271453</td>\n",
       "      <td>389534</td>\n",
       "      <td>6883</td>\n",
       "      <td>When you temporarily deactivate your Instagram...</td>\n",
       "      <td>If an instagram account is temporarily disable...</td>\n",
       "      <td>0</td>\n",
       "    </tr>\n",
       "    <tr>\n",
       "      <th>253774</th>\n",
       "      <td>253774</td>\n",
       "      <td>368369</td>\n",
       "      <td>368370</td>\n",
       "      <td>What will be Hillary clinton's policy towards ...</td>\n",
       "      <td>Are psychiatrists relevant?</td>\n",
       "      <td>0</td>\n",
       "    </tr>\n",
       "    <tr>\n",
       "      <th>26315</th>\n",
       "      <td>26315</td>\n",
       "      <td>48989</td>\n",
       "      <td>48990</td>\n",
       "      <td>Why is Decathlon not present in Mangalore?</td>\n",
       "      <td>Will Decathlon be established in Mangalore?</td>\n",
       "      <td>0</td>\n",
       "    </tr>\n",
       "    <tr>\n",
       "      <th>217500</th>\n",
       "      <td>217500</td>\n",
       "      <td>180291</td>\n",
       "      <td>323864</td>\n",
       "      <td>Where does the acronym \"POTUS\" come from and w...</td>\n",
       "      <td>Why do people have first, last, and middle nam...</td>\n",
       "      <td>0</td>\n",
       "    </tr>\n",
       "    <tr>\n",
       "      <th>345173</th>\n",
       "      <td>345173</td>\n",
       "      <td>473462</td>\n",
       "      <td>473463</td>\n",
       "      <td>Am I eligible for EB2 Green Card processing wi...</td>\n",
       "      <td>Am i eligible for EB2 Green Card processing wi...</td>\n",
       "      <td>0</td>\n",
       "    </tr>\n",
       "    <tr>\n",
       "      <th>261749</th>\n",
       "      <td>261749</td>\n",
       "      <td>377949</td>\n",
       "      <td>15284</td>\n",
       "      <td>How do I earn some extra money on weekends in ...</td>\n",
       "      <td>How can I earn some extra money during weekend...</td>\n",
       "      <td>1</td>\n",
       "    </tr>\n",
       "    <tr>\n",
       "      <th>196532</th>\n",
       "      <td>196532</td>\n",
       "      <td>29160</td>\n",
       "      <td>17519</td>\n",
       "      <td>Is astrology real?</td>\n",
       "      <td>Is astrology real or not?</td>\n",
       "      <td>1</td>\n",
       "    </tr>\n",
       "    <tr>\n",
       "      <th>163321</th>\n",
       "      <td>163321</td>\n",
       "      <td>201428</td>\n",
       "      <td>254066</td>\n",
       "      <td>What are the best Cards Against Humanity expan...</td>\n",
       "      <td>Are the guys behind SnapSnapGo the same as the...</td>\n",
       "      <td>0</td>\n",
       "    </tr>\n",
       "    <tr>\n",
       "      <th>344484</th>\n",
       "      <td>344484</td>\n",
       "      <td>472716</td>\n",
       "      <td>342265</td>\n",
       "      <td>What was it like growing up in Japan in the 90's?</td>\n",
       "      <td>What is it like growing up in Japan?</td>\n",
       "      <td>0</td>\n",
       "    </tr>\n",
       "  </tbody>\n",
       "</table>\n",
       "</div>"
      ],
      "text/plain": [
       "            id    qid1    qid2  \\\n",
       "155074  155074    1707   29274   \n",
       "271453  271453  389534    6883   \n",
       "253774  253774  368369  368370   \n",
       "26315    26315   48989   48990   \n",
       "217500  217500  180291  323864   \n",
       "345173  345173  473462  473463   \n",
       "261749  261749  377949   15284   \n",
       "196532  196532   29160   17519   \n",
       "163321  163321  201428  254066   \n",
       "344484  344484  472716  342265   \n",
       "\n",
       "                                                question1  \\\n",
       "155074      What does it mean if a dog vomits white foam?   \n",
       "271453  When you temporarily deactivate your Instagram...   \n",
       "253774  What will be Hillary clinton's policy towards ...   \n",
       "26315          Why is Decathlon not present in Mangalore?   \n",
       "217500  Where does the acronym \"POTUS\" come from and w...   \n",
       "345173  Am I eligible for EB2 Green Card processing wi...   \n",
       "261749  How do I earn some extra money on weekends in ...   \n",
       "196532                                 Is astrology real?   \n",
       "163321  What are the best Cards Against Humanity expan...   \n",
       "344484  What was it like growing up in Japan in the 90's?   \n",
       "\n",
       "                                                question2  is_duplicate  \n",
       "155074  What does it mean if a dog is throwing up yell...             1  \n",
       "271453  If an instagram account is temporarily disable...             0  \n",
       "253774                        Are psychiatrists relevant?             0  \n",
       "26315         Will Decathlon be established in Mangalore?             0  \n",
       "217500  Why do people have first, last, and middle nam...             0  \n",
       "345173  Am i eligible for EB2 Green Card processing wi...             0  \n",
       "261749  How can I earn some extra money during weekend...             1  \n",
       "196532                          Is astrology real or not?             1  \n",
       "163321  Are the guys behind SnapSnapGo the same as the...             0  \n",
       "344484               What is it like growing up in Japan?             0  "
      ]
     },
     "execution_count": 3,
     "metadata": {},
     "output_type": "execute_result"
    }
   ],
   "source": [
    "df.sample(10)"
   ]
  },
  {
   "cell_type": "code",
   "execution_count": 4,
   "id": "37b00141",
   "metadata": {},
   "outputs": [
    {
     "name": "stdout",
     "output_type": "stream",
     "text": [
      "<class 'pandas.core.frame.DataFrame'>\n",
      "RangeIndex: 404290 entries, 0 to 404289\n",
      "Data columns (total 6 columns):\n",
      " #   Column        Non-Null Count   Dtype \n",
      "---  ------        --------------   ----- \n",
      " 0   id            404290 non-null  int64 \n",
      " 1   qid1          404290 non-null  int64 \n",
      " 2   qid2          404290 non-null  int64 \n",
      " 3   question1     404289 non-null  object\n",
      " 4   question2     404288 non-null  object\n",
      " 5   is_duplicate  404290 non-null  int64 \n",
      "dtypes: int64(4), object(2)\n",
      "memory usage: 18.5+ MB\n"
     ]
    }
   ],
   "source": [
    "df.info()"
   ]
  },
  {
   "cell_type": "code",
   "execution_count": 5,
   "id": "c5b82789",
   "metadata": {},
   "outputs": [
    {
     "data": {
      "text/plain": [
       "id              0\n",
       "qid1            0\n",
       "qid2            0\n",
       "question1       1\n",
       "question2       2\n",
       "is_duplicate    0\n",
       "dtype: int64"
      ]
     },
     "execution_count": 5,
     "metadata": {},
     "output_type": "execute_result"
    }
   ],
   "source": [
    "# missing values\n",
    "df.isnull().sum()"
   ]
  },
  {
   "cell_type": "code",
   "execution_count": 6,
   "id": "e704abaf",
   "metadata": {},
   "outputs": [
    {
     "data": {
      "text/plain": [
       "0"
      ]
     },
     "execution_count": 6,
     "metadata": {},
     "output_type": "execute_result"
    }
   ],
   "source": [
    "# duplicate rows\n",
    "df.duplicated().sum()"
   ]
  },
  {
   "cell_type": "code",
   "execution_count": 7,
   "id": "3f9bd6af",
   "metadata": {},
   "outputs": [
    {
     "name": "stdout",
     "output_type": "stream",
     "text": [
      "0    255027\n",
      "1    149263\n",
      "Name: is_duplicate, dtype: int64\n",
      "0    63.080215\n",
      "1    36.919785\n",
      "Name: is_duplicate, dtype: float64\n"
     ]
    },
    {
     "data": {
      "text/plain": [
       "<AxesSubplot: >"
      ]
     },
     "execution_count": 7,
     "metadata": {},
     "output_type": "execute_result"
    },
    {
     "data": {
      "image/png": "[encoded data removed]",
      "text/plain": [
       "<Figure size 432x288 with 1 Axes>"
      ]
     },
     "metadata": {
      "needs_background": "light"
     },
     "output_type": "display_data"
    }
   ],
   "source": [
    "# Distribution of duplicate and non-duplicate questions\n",
    "\n",
    "print(df['is_duplicate'].value_counts())\n",
    "print((df['is_duplicate'].value_counts()/df['is_duplicate'].count())*100)\n",
    "df['is_duplicate'].value_counts().plot(kind='bar')"
   ]
  },
  {
   "cell_type": "code",
   "execution_count": 8,
   "id": "788d2d08",
   "metadata": {},
   "outputs": [
    {
     "name": "stdout",
     "output_type": "stream",
     "text": [
      "Number of unique questions 537933\n",
      "Number of questions getting repeated 111780\n"
     ]
    }
   ],
   "source": [
    "# Repeated questions\n",
    "\n",
    "qid = pd.Series(df['qid1'].tolist() + df['qid2'].tolist())\n",
    "print('Number of unique questions',np.unique(qid).shape[0])\n",
    "x = qid.value_counts()>1\n",
    "print('Number of questions getting repeated',x[x].shape[0])"
   ]
  },
  {
   "cell_type": "code",
   "execution_count": 9,
   "id": "2fa5bb83",
   "metadata": {},
   "outputs": [
    {
     "data": {
      "image/png": "[encoded data removed]",
      "text/plain": [
       "<Figure size 432x288 with 1 Axes>"
      ]
     },
     "metadata": {
      "needs_background": "light"
     },
     "output_type": "display_data"
    }
   ],
   "source": [
    "# Repeated questions histogram\n",
    "\n",
    "plt.hist(qid.value_counts().values,bins=160)\n",
    "plt.yscale('log')\n",
    "plt.show()"
   ]
  }
 ],
 "metadata": {
  "kernelspec": {
   "display_name": "Python 3 (ipykernel)",
   "language": "python",
   "name": "python3"
  },
  "language_info": {
   "codemirror_mode": {
    "name": "ipython",
    "version": 3
   },
   "file_extension": ".py",
   "mimetype": "text/x-python",
   "name": "python",
   "nbconvert_exporter": "python",
   "pygments_lexer": "ipython3",
   "version": "3.9.12"
  },
  "vscode": {
   "interpreter": {
    "hash": "40d3a090f54c6569ab1632332b64b2c03c39dcf918b08424e98f38b5ae0af88f"
   }
  }
 },
 "nbformat": 4,
 "nbformat_minor": 5
}
